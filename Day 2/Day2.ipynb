{
  "nbformat": 4,
  "nbformat_minor": 0,
  "metadata": {
    "colab": {
      "provenance": [],
      "toc_visible": true
    },
    "kernelspec": {
      "name": "python3",
      "display_name": "Python 3"
    },
    "language_info": {
      "name": "python"
    }
  },
  "cells": [
    {
      "cell_type": "markdown",
      "source": [
        "Data Types, Operations and Strings"
      ],
      "metadata": {
        "id": "VGONVvxRPFh9"
      }
    },
    {
      "cell_type": "markdown",
      "source": [
        "Day 2.1"
      ],
      "metadata": {
        "id": "jEASM38nMxmz"
      }
    },
    {
      "cell_type": "code",
      "source": [
        "t=input(\"Enter a two digit number: \")\n",
        "td=str(t)\n",
        "res=int(td[0])+int(td[1])\n",
        "print(res)"
      ],
      "metadata": {
        "colab": {
          "base_uri": "https://localhost:8080/"
        },
        "id": "mklYKDBuM1_S",
        "outputId": "c3c1d51c-b26d-4249-df3d-93230025a83c"
      },
      "execution_count": 30,
      "outputs": [
        {
          "output_type": "stream",
          "name": "stdout",
          "text": [
            "Enter a two digit number: 69\n",
            "15\n"
          ]
        }
      ]
    },
    {
      "cell_type": "markdown",
      "source": [
        "BMI **Calculator**"
      ],
      "metadata": {
        "id": "3O7Stte96ux8"
      }
    },
    {
      "cell_type": "code",
      "source": [
        "h=input(\"Enter your height in m: \")\n",
        "w=input(\"Enter your weight in kg:\")"
      ],
      "metadata": {
        "colab": {
          "base_uri": "https://localhost:8080/"
        },
        "id": "SXnsGklJ65Ne",
        "outputId": "a64c35f9-b34f-44b2-cc26-bd8a35f5d3d5"
      },
      "execution_count": 7,
      "outputs": [
        {
          "name": "stdout",
          "output_type": "stream",
          "text": [
            "Enter your height in m: 1.75\n",
            "Enter your weight in kg:80\n"
          ]
        }
      ]
    },
    {
      "cell_type": "code",
      "source": [
        "h=float(h)\n",
        "nh=h**2\n",
        "bmi=int(int(w)/nh)\n",
        "print(\"Your BMI is :\"+str(bmi))"
      ],
      "metadata": {
        "colab": {
          "base_uri": "https://localhost:8080/"
        },
        "id": "jE9ClKUW7ZDc",
        "outputId": "7f28de76-b11e-48fa-f3d8-fddffc37020f"
      },
      "execution_count": 9,
      "outputs": [
        {
          "output_type": "stream",
          "name": "stdout",
          "text": [
            "Your BMI is :26\n"
          ]
        }
      ]
    },
    {
      "cell_type": "markdown",
      "source": [
        "Day 2.3"
      ],
      "metadata": {
        "id": "2qWdpp04Aepy"
      }
    },
    {
      "cell_type": "code",
      "source": [
        "age=input(\"What is your current age: \")"
      ],
      "metadata": {
        "colab": {
          "base_uri": "https://localhost:8080/"
        },
        "id": "E0eC-odcAje4",
        "outputId": "bfa05fbc-c841-451c-ed3e-d444ed16ca0d"
      },
      "execution_count": 10,
      "outputs": [
        {
          "name": "stdout",
          "output_type": "stream",
          "text": [
            "What is your current age: 23\n"
          ]
        }
      ]
    },
    {
      "cell_type": "code",
      "source": [
        "l=90\n",
        "rem=l-int(age)\n",
        "m=rem*12\n",
        "w=rem*52\n",
        "d=rem*365\n",
        "print(f'You have {d} days, {w} weeks, {m} months, {rem} years left')"
      ],
      "metadata": {
        "colab": {
          "base_uri": "https://localhost:8080/"
        },
        "id": "ngpdjb7OBrZM",
        "outputId": "2143132d-82cc-4186-8d90-f78f62c2847a"
      },
      "execution_count": 17,
      "outputs": [
        {
          "output_type": "stream",
          "name": "stdout",
          "text": [
            "You have 24455 days, 3484 weeks, 804 months, 67 years left\n"
          ]
        }
      ]
    },
    {
      "cell_type": "markdown",
      "source": [
        "Tip Calculator"
      ],
      "metadata": {
        "id": "AxdiH84wGaOA"
      }
    },
    {
      "cell_type": "code",
      "source": [
        "print(\"Welcome to the tip calculator.\")\n",
        "tb=float(input(\"What was your total bill? $\"))\n",
        "pt=int(input(\"What percentage tip would you like to give? 10, 12, or 15? \"))\n",
        "p=int(input(\"How many people to split the bill? \"))"
      ],
      "metadata": {
        "colab": {
          "base_uri": "https://localhost:8080/"
        },
        "id": "vztlxxcWGf3j",
        "outputId": "d4dcd660-049e-491e-cbbc-4073f33511c8"
      },
      "execution_count": 27,
      "outputs": [
        {
          "name": "stdout",
          "output_type": "stream",
          "text": [
            "Welcome to the tip calculator.\n",
            "What was your total bill? $150\n",
            "What percentage tip would you like to give? 10, 12, or 15? 12\n",
            "How many people to split the bill? 5\n"
          ]
        }
      ]
    },
    {
      "cell_type": "code",
      "source": [
        "tt=pt/100+1\n",
        "tt\n",
        "ntb=tb*tt\n",
        "ntb\n",
        "pay=\"{:.2f}\".format(ntb/p)\n",
        "print(f'Each person should pay: ${pay}')"
      ],
      "metadata": {
        "colab": {
          "base_uri": "https://localhost:8080/"
        },
        "id": "4v7YEqTQH4Xi",
        "outputId": "8a58cbf5-6bcd-4239-ac4a-8284be1badfb"
      },
      "execution_count": 29,
      "outputs": [
        {
          "output_type": "stream",
          "name": "stdout",
          "text": [
            "Each person should pay: $33.60\n"
          ]
        }
      ]
    }
  ]
}