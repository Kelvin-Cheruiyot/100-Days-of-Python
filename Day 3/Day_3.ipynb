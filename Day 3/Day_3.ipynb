{
  "nbformat": 4,
  "nbformat_minor": 0,
  "metadata": {
    "colab": {
      "provenance": []
    },
    "kernelspec": {
      "name": "python3",
      "display_name": "Python 3"
    },
    "language_info": {
      "name": "python"
    }
  },
  "cells": [
    {
      "cell_type": "markdown",
      "source": [
        "Day 3.1 - Odd or Even"
      ],
      "metadata": {
        "id": "u55GRDYnmR3h"
      }
    },
    {
      "cell_type": "code",
      "execution_count": null,
      "metadata": {
        "id": "o5EdP57riLgv",
        "colab": {
          "base_uri": "https://localhost:8080/"
        },
        "outputId": "e3ad8adc-cba8-4584-851e-82c891b5e009"
      },
      "outputs": [
        {
          "output_type": "stream",
          "name": "stdout",
          "text": [
            "Enter a number: 12\n",
            "This is an Even Number\n"
          ]
        }
      ],
      "source": [
        "n=int(input(\"Enter a number: \"))\n",
        "if n%2==0:\n",
        "  print(\"This is an Even Number\")\n",
        "else:\n",
        "  print(\"This is Odd Number\")"
      ]
    },
    {
      "cell_type": "markdown",
      "source": [
        "Day 3.2 BMI 2.0"
      ],
      "metadata": {
        "id": "joaXPgWppnZy"
      }
    },
    {
      "cell_type": "code",
      "source": [
        "h=float(input(\"Height in m: \"))\n",
        "w=float(input(\"Weight in kg: \"))\n",
        "bmi=round(w/h**2)\n",
        "bmi"
      ],
      "metadata": {
        "colab": {
          "base_uri": "https://localhost:8080/"
        },
        "id": "-u_mo_h2psdY",
        "outputId": "72b1eeae-8793-4fa4-fc4a-d81f5a06e47f"
      },
      "execution_count": null,
      "outputs": [
        {
          "name": "stdout",
          "output_type": "stream",
          "text": [
            "Height in m: 1.6\n",
            "Weight in kg: 64\n"
          ]
        },
        {
          "output_type": "execute_result",
          "data": {
            "text/plain": [
              "25"
            ]
          },
          "metadata": {},
          "execution_count": 23
        }
      ]
    },
    {
      "cell_type": "code",
      "source": [
        "if bmi<18.5:\n",
        "  print(f\"Your BMI is {bmi}.You are slightly underweight\")\n",
        "elif bmi<=25:\n",
        "  print(f\"Your BMI is {bmi}.You have a normal weight\")\n",
        "elif bmi <=30:\n",
        "  print(f\"Your BMI is {bmi}.You are slightly overweight\")\n",
        "elif bmi<=35:\n",
        "  print(f\"Your BMI is {bmi}.You are slightly obese\")\n",
        "else:\n",
        "  print(f\"Your BMI is {bmi}.You are clinically obese\")"
      ],
      "metadata": {
        "colab": {
          "base_uri": "https://localhost:8080/"
        },
        "id": "Y5Y6h_azuuyO",
        "outputId": "2e40ff20-67e9-4250-ffb2-59c9043fe85a"
      },
      "execution_count": null,
      "outputs": [
        {
          "output_type": "stream",
          "name": "stdout",
          "text": [
            "Your BMI is 25.You have a normal weight\n"
          ]
        }
      ]
    },
    {
      "cell_type": "markdown",
      "source": [
        "Day 3.3 Leap Year"
      ],
      "metadata": {
        "id": "CN7OW7VF23q9"
      }
    },
    {
      "cell_type": "code",
      "source": [
        "y=int(input(\"Enter year to check: \"))\n",
        "if y%4==0:\n",
        "  if y%100==0:\n",
        "    if y%400==0:\n",
        "      print(f'{y} is a leap year')\n",
        "    else:\n",
        "      print(f'{y} is not a leap year')\n",
        "  else:\n",
        "    print(f'{y} is a leap year')\n",
        "else:\n",
        "  print(f'{y} is not a leap year')"
      ],
      "metadata": {
        "colab": {
          "base_uri": "https://localhost:8080/"
        },
        "id": "TEdwO5zu3HNM",
        "outputId": "815602d2-a4e7-42ef-bb8c-0e9a90e21aa4"
      },
      "execution_count": null,
      "outputs": [
        {
          "output_type": "stream",
          "name": "stdout",
          "text": [
            "Enter year to check: 2000\n",
            "2000 is a leap year\n"
          ]
        }
      ]
    },
    {
      "cell_type": "markdown",
      "source": [
        "Day 3.4 Pizza Order"
      ],
      "metadata": {
        "id": "mnZPKgGuAfO5"
      }
    },
    {
      "cell_type": "code",
      "source": [
        "print(\"Welcome Python Pizza Deliveries!\")\n",
        "s=input(\"What size do you want? S, M, or L\")\n",
        "ap=input(\"Do you want to add pepperoni? Y or N\")\n",
        "xc=input(\"Do your want extra cheese? Y or N\")"
      ],
      "metadata": {
        "colab": {
          "base_uri": "https://localhost:8080/"
        },
        "id": "hSD9FOtvAkwp",
        "outputId": "2f3e1236-dda5-42b5-e044-33481d47e739"
      },
      "execution_count": null,
      "outputs": [
        {
          "name": "stdout",
          "output_type": "stream",
          "text": [
            "Welcome Python Pizza Deliveries!\n",
            "What size do you want? S, M, or Ll\n",
            "Do you want to add pepperoni? Y or Ny\n",
            "Do your want extra cheese? Y or Nn\n"
          ]
        }
      ]
    },
    {
      "cell_type": "code",
      "source": [
        "b=0\n",
        "if s==\"s\":\n",
        "  b+=15\n",
        "elif s==\"m\":\n",
        "  b+=20\n",
        "else:\n",
        "  b+=25\n",
        "if ap=='y':\n",
        "  if s=='s':\n",
        "    b+=2\n",
        "  else:\n",
        "    b+=3\n",
        "if xc=='y':\n",
        "  b+=1\n",
        "print(f'Your bill is ${b}')"
      ],
      "metadata": {
        "colab": {
          "base_uri": "https://localhost:8080/"
        },
        "id": "pnasEVg2BfdZ",
        "outputId": "c03e87ea-d7d3-4c0c-a9be-38b8a834ffc3"
      },
      "execution_count": null,
      "outputs": [
        {
          "output_type": "stream",
          "name": "stdout",
          "text": [
            "Your bill is $28\n"
          ]
        }
      ]
    },
    {
      "cell_type": "markdown",
      "source": [
        "Day 3.5 Love Calculator"
      ],
      "metadata": {
        "id": "bBMsJunZZjzj"
      }
    },
    {
      "cell_type": "code",
      "source": [
        "print(\"Welcome to the love calculator\")\n",
        "n1=input(\"Your name: \\n\")\n",
        "n2=input(\"Their name: \\n\")\n",
        "n=n1+n2\n",
        "n=n.lower()\n",
        "t=n.count('t')\n",
        "r=n.count('r')\n",
        "u=n.count('u')\n",
        "e=n.count('e')\n",
        "true=t+r+u+e\n",
        "l=n.count('l')\n",
        "o=n.count('o')\n",
        "v=n.count('v')\n",
        "e=n.count('e')\n",
        "love=l+o+v+e\n",
        "ls=int(str(true)+str(love))\n",
        "if ls<10 or ls>90:\n",
        "  print(f'Your love score is {ls}, you go together like coke and mentos')\n",
        "elif ls>=40 and ls<=50:\n",
        "  print(f'Your love score is {ls}, you are alright together')\n",
        "else:\n",
        "  print(f'Your love score is {ls}')"
      ],
      "metadata": {
        "colab": {
          "base_uri": "https://localhost:8080/"
        },
        "id": "EqOWn-8FjU8U",
        "outputId": "61842e40-87f1-42e7-fb09-42545c16f27f"
      },
      "execution_count": 47,
      "outputs": [
        {
          "output_type": "stream",
          "name": "stdout",
          "text": [
            "Welcome to the love calculator\n",
            "Your name: \n",
            "benny bratchet\n",
            "Their name: \n",
            "sarrah clerkson\n",
            "Your love score is 95, you go together like coke and mentos\n"
          ]
        }
      ]
    },
    {
      "cell_type": "markdown",
      "source": [
        "Day 3 Island Escape"
      ],
      "metadata": {
        "id": "DZSbn7OLpRBW"
      }
    },
    {
      "cell_type": "code",
      "source": [
        "print('''\n",
        "\n",
        "\n",
        "                        ,////,\n",
        "                        /// 6|\n",
        "                        //  _|\n",
        "                       _/_,-'\n",
        "                  _.-/'/   \\   ,/;,\n",
        "               ,-' /'  \\_   \\ / _/\n",
        "               `\\ /     _/\\  ` /\n",
        "                 |     /,  `\\_/\n",
        "                 |     \\'\n",
        " pb  /\\_        /`      /\\\n",
        "   /' /_``--.__/\\  `,. /  \\\n",
        "  |_/`  `-._     `\\/  `\\   `.\n",
        "            `-.__/'     `\\   |\n",
        "                          `\\  \\\n",
        "                            `\\ \\\n",
        "                              \\_\\__\n",
        "                               \\___)\n",
        "\n",
        "''')\n",
        "print(\"Welcome to Island Escape\")\n",
        "print(\"Your mission is to escape the island\")"
      ],
      "metadata": {
        "colab": {
          "base_uri": "https://localhost:8080/"
        },
        "id": "C3J0TLW7pZTp",
        "outputId": "58cd4c7d-77a7-4cfc-dec5-7e27fa54a9bf"
      },
      "execution_count": 49,
      "outputs": [
        {
          "output_type": "stream",
          "name": "stdout",
          "text": [
            "\n",
            "\n",
            "\n",
            "                        ,////,\n",
            "                        /// 6|\n",
            "                        //  _|\n",
            "                       _/_,-'\n",
            "                  _.-/'/   \\   ,/;,\n",
            "               ,-' /'  \\_   \\ / _/\n",
            "               `\\ /     _/\\  ` /\n",
            "                 |     /,  `\\_/\n",
            "                 |     '\n",
            " pb  /\\_        /`      /   /' /_``--.__/\\  `,. /    |_/`  `-._     `\\/  `\\   `.\n",
            "            `-.__/'     `\\   |\n",
            "                          `\\                              `\\                               \\_\\__\n",
            "                               \\___)\n",
            "    \n",
            "\n",
            "      \n",
            "\n",
            "Welcome to Island Escape\n",
            "Your mission is to escape the island\n"
          ]
        }
      ]
    },
    {
      "cell_type": "code",
      "source": [
        "s1=input(\"You see a two roads ahead where do you go?Left or Right? l or r: \")\n",
        "if s1=='l':\n",
        "  print('You continue running')\n",
        "  s2=input(\"You see ahead there is a river what do you do?Swim across or Wait for the boat? s or w: \")\n",
        "  if s2=='w':\n",
        "    print('You row across the river to a land')\n",
        "    s3=input(\"You see ahead there is a house with three doors.Which door will you open?Blue or Red or Yellow? b or r or y: \")\n",
        "    if s3=='r':\n",
        "      print('Game Over. The door was rigged with explosives')\n",
        "    elif s3=='b':\n",
        "      print('Game Over. There was no door. It was an illusion.')\n",
        "    else:\n",
        "      print('Congratulations You Win!!!')\n",
        "else:\n",
        "  print(\"Game  Over. You fall into a prey hole\")\n"
      ],
      "metadata": {
        "colab": {
          "base_uri": "https://localhost:8080/"
        },
        "id": "PPP7LLXhr5LW",
        "outputId": "49b856b7-16b1-458f-ac3e-c114c81b6c9d"
      },
      "execution_count": 54,
      "outputs": [
        {
          "output_type": "stream",
          "name": "stdout",
          "text": [
            "You see a two roads ahead where do you go?Left or Right? l or r: r\n",
            "Game  Over. You fall into a prey hole\n"
          ]
        }
      ]
    }
  ]
}