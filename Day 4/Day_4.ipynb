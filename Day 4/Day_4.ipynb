{
  "nbformat": 4,
  "nbformat_minor": 0,
  "metadata": {
    "colab": {
      "provenance": []
    },
    "kernelspec": {
      "name": "python3",
      "display_name": "Python 3"
    },
    "language_info": {
      "name": "python"
    }
  },
  "cells": [
    {
      "cell_type": "markdown",
      "source": [
        "Day 4.1 Heads or Tails"
      ],
      "metadata": {
        "id": "YZaqnuI69dig"
      }
    },
    {
      "cell_type": "code",
      "execution_count": 1,
      "metadata": {
        "id": "SO3R19pD4Bu_"
      },
      "outputs": [],
      "source": [
        "import random"
      ]
    },
    {
      "cell_type": "code",
      "source": [
        "r=random.randint(0,1)\n",
        "if r==1:\n",
        "  print(\"Heads\")\n",
        "else:\n",
        "  print(\"Tails\")"
      ],
      "metadata": {
        "colab": {
          "base_uri": "https://localhost:8080/"
        },
        "id": "VuNB-B7q76jb",
        "outputId": "34634743-8139-453c-d3f8-35695eec0989"
      },
      "execution_count": 2,
      "outputs": [
        {
          "output_type": "stream",
          "name": "stdout",
          "text": [
            "Tails\n"
          ]
        }
      ]
    },
    {
      "cell_type": "markdown",
      "source": [
        "Day 4.2"
      ],
      "metadata": {
        "id": "d6tZxxar9uWH"
      }
    },
    {
      "cell_type": "code",
      "source": [
        "ns=input(\"Names sep by comma. \")\n",
        "n=ns.split(\",\")"
      ],
      "metadata": {
        "id": "6Y78O5UeE2rn",
        "colab": {
          "base_uri": "https://localhost:8080/"
        },
        "outputId": "954f9740-277e-4883-b16d-8e7e2d67df22"
      },
      "execution_count": 5,
      "outputs": [
        {
          "name": "stdout",
          "output_type": "stream",
          "text": [
            "Names sep by comma. q,w,e,r,t,y\n"
          ]
        }
      ]
    },
    {
      "cell_type": "code",
      "source": [
        "r=random.randint(0,len(n)-1)\n",
        "p=ns[r]\n",
        "print(p+\" is gonna pay today\")"
      ],
      "metadata": {
        "id": "xFOoHR8UFxwV",
        "colab": {
          "base_uri": "https://localhost:8080/"
        },
        "outputId": "7adec7db-07a0-40fb-a53b-e1994ff55290"
      },
      "execution_count": 42,
      "outputs": [
        {
          "output_type": "stream",
          "name": "stdout",
          "text": [
            ", is gonna pay today\n"
          ]
        }
      ]
    },
    {
      "cell_type": "code",
      "source": [
        "pp=random.choice(n)\n",
        "pp"
      ],
      "metadata": {
        "colab": {
          "base_uri": "https://localhost:8080/",
          "height": 36
        },
        "id": "Hnq9QFaQLBNe",
        "outputId": "ca8fac71-ead6-4110-b4df-7c393d4abdbc"
      },
      "execution_count": 52,
      "outputs": [
        {
          "output_type": "execute_result",
          "data": {
            "text/plain": [
              "'e'"
            ],
            "application/vnd.google.colaboratory.intrinsic+json": {
              "type": "string"
            }
          },
          "metadata": {},
          "execution_count": 52
        }
      ]
    },
    {
      "cell_type": "markdown",
      "source": [
        "Day 4.3"
      ],
      "metadata": {
        "id": "Vby8-lEgNVG0"
      }
    },
    {
      "cell_type": "code",
      "source": [
        "row1=[\"X\",\"X\",\"X\"]\n",
        "row2=[\"X\",\"X\",\"X\"]\n",
        "row3=[\"X\",\"X\",\"X\"]\n",
        "map=[row1,row2,row3]\n",
        "print(f\"{row1}\\n{row2}\\n{row3}\")\n",
        "pos=input(\"Where: \")\n",
        "h=int(pos[0])\n",
        "v=int(pos[1])\n",
        "map[v-1][h-1]=\"0\"\n",
        "print(f\"{row1}\\n{row2}\\n{row3}\")"
      ],
      "metadata": {
        "colab": {
          "base_uri": "https://localhost:8080/"
        },
        "id": "YFtNF18aNYUq",
        "outputId": "0dc836a5-b3eb-4c77-9a02-87b5a1b5a1c0"
      },
      "execution_count": 55,
      "outputs": [
        {
          "output_type": "stream",
          "name": "stdout",
          "text": [
            "['X', 'X', 'X']\n",
            "['X', 'X', 'X']\n",
            "['X', 'X', 'X']\n",
            "Where: 22\n",
            "['X', 'X', 'X']\n",
            "['X', '0', 'X']\n",
            "['X', 'X', 'X']\n"
          ]
        }
      ]
    },
    {
      "cell_type": "markdown",
      "source": [
        "Rock Paper & Scissor"
      ],
      "metadata": {
        "id": "jtZzaFpMQ5M5"
      }
    },
    {
      "cell_type": "code",
      "source": [
        "import random\n",
        "rock = '''\n",
        "    _______\n",
        "---'   ____)\n",
        "      (_____)\n",
        "      (_____)\n",
        "      (____)\n",
        "---.__(___)\n",
        "'''\n",
        "\n",
        "paper = '''\n",
        "    _______\n",
        "---'   ____)____\n",
        "          ______)\n",
        "          _______)\n",
        "         _______)\n",
        "---.__________)\n",
        "'''\n",
        "\n",
        "scissors = '''\n",
        "    _______\n",
        "---'   ____)____\n",
        "          ______)\n",
        "       __________)\n",
        "      (____)\n",
        "---.__(___)\n",
        "'''"
      ],
      "metadata": {
        "id": "bxhSNy2iW9o8"
      },
      "execution_count": 73,
      "outputs": []
    },
    {
      "cell_type": "code",
      "source": [
        "x=[rock,paper,scissors]\n",
        "i=int(input(\"What do you choose? Type 0 for Rock, 1 for Paper or 2 for Scissors.\"))\n",
        "if i>=3 or i<0:\n",
        "  print(\"Invalid\")\n",
        "else:\n",
        "  print(x[i])\n",
        "  r=random.randint(0,2)\n",
        "  print(f'Comp chose: ')\n",
        "  print(x[r])\n",
        "  if i==0 and r==2:\n",
        "    print(\"Win!\")\n",
        "  elif r>i:\n",
        "    print(\"Lose\")\n",
        "  elif r==1 and i==2:\n",
        "    print(\"Lose\")\n",
        "  elif i>r:\n",
        "    print(\"Win!\")\n",
        "  elif r==i:\n",
        "    print(\"Draw\")\n"
      ],
      "metadata": {
        "colab": {
          "base_uri": "https://localhost:8080/"
        },
        "id": "nY2VJ4qNQ9-x",
        "outputId": "e005ee64-7e58-48e4-e0aa-9e5317ac4568"
      },
      "execution_count": 78,
      "outputs": [
        {
          "output_type": "stream",
          "name": "stdout",
          "text": [
            "What do you choose? Type 0 for Rock, 1 for Paper or 2 for Scissors.1\n",
            "\n",
            "    _______\n",
            "---'   ____)____\n",
            "          ______)\n",
            "          _______)\n",
            "         _______)\n",
            "---.__________)\n",
            "\n",
            "Comp chose: \n",
            "\n",
            "    _______\n",
            "---'   ____)\n",
            "      (_____)\n",
            "      (_____)\n",
            "      (____)\n",
            "---.__(___)\n",
            "\n",
            "Win!\n"
          ]
        }
      ]
    },
    {
      "cell_type": "code",
      "source": [
        "\n"
      ],
      "metadata": {
        "colab": {
          "base_uri": "https://localhost:8080/"
        },
        "id": "bpTKzsTKUIB8",
        "outputId": "cfcfd449-f7ab-49c2-8679-8607ebb53793"
      },
      "execution_count": 77,
      "outputs": [
        {
          "output_type": "stream",
          "name": "stdout",
          "text": [
            "Draw\n"
          ]
        }
      ]
    }
  ]
}